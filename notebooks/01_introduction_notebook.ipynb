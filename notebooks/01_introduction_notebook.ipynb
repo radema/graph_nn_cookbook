{
 "cells": [
  {
   "cell_type": "code",
   "execution_count": null,
   "id": "8dde44d7",
   "metadata": {},
   "outputs": [],
   "source": [
    "import sys\n",
    "import os\n",
    "import torch\n",
    "from torch_geometric.data import Data\n",
    "\n",
    "sys.path.append(os.path.abspath(\"../src\"))\n",
    "from logging_utils import setup_logger"
   ]
  },
  {
   "cell_type": "code",
   "execution_count": null,
   "id": "7ae54e27",
   "metadata": {},
   "outputs": [],
   "source": [
    "# Set up the logger\n",
    "log = setup_logger(\"notebook_logger\")\n",
    "log.info(\"🧪 Starting notebook\")"
   ]
  },
  {
   "cell_type": "code",
   "execution_count": null,
   "id": "d1d46d47",
   "metadata": {},
   "outputs": [],
   "source": [
    "edge_index = torch.tensor([[0, 1],\n",
    "                           [1, 0],\n",
    "                           [1, 2],\n",
    "                           [2, 1]], dtype=torch.long)\n",
    "x = torch.tensor([[-1], [0], [1]], dtype=torch.float)\n",
    "\n",
    "data = Data(x=x, edge_index=edge_index.t().contiguous())\n",
    "log.info(f\"Data validation: {data.validate(raise_on_error=True)}\")\n",
    "data"
   ]
  },
  {
   "cell_type": "code",
   "execution_count": null,
   "id": "07b56161",
   "metadata": {},
   "outputs": [],
   "source": [
    "for key in data.keys():\n",
    "    print(key)\n",
    "    print(\"-\"*20)\n",
    "    print(data[key])\n",
    "    print('#'*20)"
   ]
  },
  {
   "cell_type": "markdown",
   "id": "cbfd49aa",
   "metadata": {},
   "source": [
    "> PyG contains a large number of common benchmark datasets, e.g., all Planetoid datasets (Cora, Citeseer, Pubmed), all graph classification datasets from [TUDatasets](https://chrsmrrs.github.io/datasets/) and their cleaned versions, the QM7 and QM9 dataset, and a handful of 3D mesh/point cloud datasets like FAUST, ModelNet10/40 and ShapeNet. \n",
    "\n",
    "Source: [link](https://pytorch-geometric.readthedocs.io/en/latest/get_started/introduction.html)"
   ]
  },
  {
   "cell_type": "code",
   "execution_count": null,
   "id": "7bb2b419",
   "metadata": {},
   "outputs": [],
   "source": [
    "from torch_geometric.datasets import TUDataset\n",
    "\n",
    "dataset = TUDataset(root='/tmp/ENZYMES', name='ENZYMES')"
   ]
  },
  {
   "cell_type": "code",
   "execution_count": null,
   "id": "467d9070",
   "metadata": {},
   "outputs": [],
   "source": [
    "print(f'Dataset: {dataset}:')\n",
    "print('======================')\n",
    "print(\"Number of graphs in dataset: \", len(dataset))\n",
    "print('======================')\n",
    "print(\"Number of classes: \", dataset.num_classes)\n",
    "print(\"Number of edge attributes: \", dataset.num_edge_attributes)\n",
    "print(\"Number of edge features: \", dataset.num_edge_features)\n",
    "print(\"Number of node attributes: \", dataset.num_node_attributes)\n",
    "print(\"Number of node features: \", dataset.num_node_features)\n",
    "print(f'Number of classes: {dataset.num_classes}')"
   ]
  },
  {
   "cell_type": "code",
   "execution_count": null,
   "id": "ecf20c48",
   "metadata": {},
   "outputs": [],
   "source": [
    "data = dataset[0]\n",
    "data"
   ]
  },
  {
   "cell_type": "code",
   "execution_count": null,
   "id": "d6034268",
   "metadata": {},
   "outputs": [],
   "source": [
    "data.edge_index.t().contiguous()[:5]"
   ]
  },
  {
   "cell_type": "markdown",
   "id": "4294c144",
   "metadata": {},
   "source": [
    "https://colab.research.google.com/drive/1h3-vJGRVloF5zStxL5I0rSy4ZUPNsjy8?usp=sharing#scrollTo=Y9MOs8iSwKFD"
   ]
  }
 ],
 "metadata": {
  "kernelspec": {
   "display_name": ".venv",
   "language": "python",
   "name": "python3"
  },
  "language_info": {
   "codemirror_mode": {
    "name": "ipython",
    "version": 3
   },
   "file_extension": ".py",
   "mimetype": "text/x-python",
   "name": "python",
   "nbconvert_exporter": "python",
   "pygments_lexer": "ipython3",
   "version": "3.12.2"
  }
 },
 "nbformat": 4,
 "nbformat_minor": 5
}
