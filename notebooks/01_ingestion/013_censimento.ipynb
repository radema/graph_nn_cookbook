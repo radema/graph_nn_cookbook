{
 "cells": [
  {
   "cell_type": "code",
   "execution_count": null,
   "id": "4e420cb6",
   "metadata": {},
   "outputs": [],
   "source": [
    "from ingestion_utils import BaseCSVProcessor"
   ]
  },
  {
   "cell_type": "code",
   "execution_count": null,
   "id": "e40fe950",
   "metadata": {},
   "outputs": [
    {
     "name": "stdout",
     "output_type": "stream",
     "text": [
      "  ITTER107 Territorio TIPO_DATO_CENS_POP  \\\n",
      "0    ITC15     Novara      RESPOP_MIN_AV   \n",
      "1    ITC15     Novara      RESPOP_MIN_AV   \n",
      "2    ITC15     Novara      RESPOP_MIN_AV   \n",
      "3    ITC15     Novara      RESPOP_MIN_AV   \n",
      "4    ITC15     Novara      RESPOP_MIN_AV   \n",
      "\n",
      "                              Tipo_dato SEXISTAT1   Sesso    ETA1  \\\n",
      "0  popolazione residente fino a 17 anni         T  totale  Y_UN17   \n",
      "1  popolazione residente fino a 17 anni         T  totale  Y_UN17   \n",
      "2  popolazione residente fino a 17 anni         T  totale  Y_UN17   \n",
      "3  popolazione residente fino a 17 anni         T  totale  Y_UN17   \n",
      "4  popolazione residente fino a 17 anni         T  totale  Y_UN17   \n",
      "\n",
      "    Classe_di_età STATCIV2 Stato_civile  ... Cittadinanza  ISO  \\\n",
      "0  fino a 17 anni      ALL       totale  ...   italiano-a  ALL   \n",
      "1  fino a 17 anni      ALL       totale  ...   italiano-a  ALL   \n",
      "2  fino a 17 anni      ALL       totale  ...   italiano-a  ALL   \n",
      "3  fino a 17 anni      ALL       totale  ...   italiano-a  ALL   \n",
      "4  fino a 17 anni      ALL       totale  ...   italiano-a  ALL   \n",
      "\n",
      "  Area_geografica_e_paesi_di_cittadinanza PROV_DEST_Z  \\\n",
      "0                           tutte le voci         ALL   \n",
      "1                           tutte le voci         ALL   \n",
      "2                           tutte le voci         ALL   \n",
      "3                           tutte le voci         ALL   \n",
      "4                           tutte le voci         ALL   \n",
      "\n",
      "  Luogo_di_dimora_abituale_1_anno_prima_rispetto_alla_dimora_attuale  TIME  \\\n",
      "0                                      tutte le voci                  2018   \n",
      "1                                      tutte le voci                  2019   \n",
      "2                                      tutte le voci                  2020   \n",
      "3                                      tutte le voci                  2021   \n",
      "4                                      tutte le voci                  2022   \n",
      "\n",
      "   Seleziona_periodo    Value  Flag_Codes Flags  \n",
      "0               2018  48349.0        None  None  \n",
      "1               2019  47655.0        None  None  \n",
      "2               2020  47263.0        None  None  \n",
      "3               2021  46851.0        None  None  \n",
      "4               2022  46416.0        None  None  \n",
      "\n",
      "[5 rows x 21 columns]\n"
     ]
    }
   ],
   "source": [
    "BaseCSVProcessor(\n",
    "    '../../data/01_raw/DCSS_POP_DEMCITMIG - Caratteristiche demografiche e cittadinanza - intero ds.csv.zip',\n",
    "    '../../data/01_raw/DCSS_POP_DEMCITMIG.parquet',\n",
    "    show_head=True\n",
    ").run()"
   ]
  },
  {
   "cell_type": "code",
   "execution_count": null,
   "id": "2fe97be0",
   "metadata": {},
   "outputs": [
    {
     "name": "stdout",
     "output_type": "stream",
     "text": [
      "  ITTER107  Territorio TIPO_DATO_CENS_POP              Tipo_dato SEXISTAT1  \\\n",
      "0      ITC  Nord-ovest          RESPOP_AV  popolazione residente         T   \n",
      "1      ITC  Nord-ovest          RESPOP_AV  popolazione residente         T   \n",
      "2      ITC  Nord-ovest          RESPOP_AV  popolazione residente         T   \n",
      "3      ITC  Nord-ovest          RESPOP_AV  popolazione residente         T   \n",
      "4     ITC1    Piemonte          RESPOP_AV  popolazione residente         F   \n",
      "\n",
      "     Sesso    ETA1            Età CITTADINANZA Cittadinanza  ...  \\\n",
      "0   totale  Y_GE15  15 anni e più          ITL   italiano-a  ...   \n",
      "1   totale  Y_GE15  15 anni e più          ITL   italiano-a  ...   \n",
      "2   totale  Y_GE15  15 anni e più          ITL   italiano-a  ...   \n",
      "3   totale  Y_GE15  15 anni e più          ITL   italiano-a  ...   \n",
      "4  femmine  Y_GE15  15 anni e più          ITL   italiano-a  ...   \n",
      "\n",
      "  Condizione_professionale PROV_DEST_Z  Luogo_di_destinazione MOTIVOPS1  \\\n",
      "0          forze di lavoro         ALL          tutte le voci       ALL   \n",
      "1          forze di lavoro         ALL          tutte le voci       ALL   \n",
      "2          forze di lavoro         ALL          tutte le voci       ALL   \n",
      "3          forze di lavoro         ALL          tutte le voci       ALL   \n",
      "4          forze di lavoro         ALL          tutte le voci       ALL   \n",
      "\n",
      "  Motivo_dello_spostamento  TIME Seleziona_periodo         Value  Flag_Codes  \\\n",
      "0            tutte le voci  2018              2018  6.697989e+06        None   \n",
      "1            tutte le voci  2019              2019  6.712218e+06        None   \n",
      "2            tutte le voci  2021              2021  6.554548e+06        None   \n",
      "3            tutte le voci  2022              2022  6.541132e+06        None   \n",
      "4            tutte le voci  2018              2018  8.193240e+05        None   \n",
      "\n",
      "   Flags  \n",
      "0   None  \n",
      "1   None  \n",
      "2   None  \n",
      "3   None  \n",
      "4   None  \n",
      "\n",
      "[5 rows x 23 columns]\n"
     ]
    }
   ],
   "source": [
    "BaseCSVProcessor(\n",
    "    '../../data/01_raw/DCSS_ISTR_LAV_PEN_2 - Istruzione, lavoro e spostamenti per studio o lavoro - intero ds.csv.zip',\n",
    "    '../../data/01_raw/DCSS_ISTR_LAV_PEN_2.parquet',\n",
    "    show_head=True\n",
    ").run()"
   ]
  },
  {
   "cell_type": "code",
   "execution_count": null,
   "id": "fd92541b",
   "metadata": {},
   "outputs": [],
   "source": []
  }
 ],
 "metadata": {
  "kernelspec": {
   "display_name": ".venv",
   "language": "python",
   "name": "python3"
  },
  "language_info": {
   "codemirror_mode": {
    "name": "ipython",
    "version": 3
   },
   "file_extension": ".py",
   "mimetype": "text/x-python",
   "name": "python",
   "nbconvert_exporter": "python",
   "pygments_lexer": "ipython3",
   "version": "3.12.2"
  }
 },
 "nbformat": 4,
 "nbformat_minor": 5
}
