{
 "cells": [
  {
   "cell_type": "code",
   "execution_count": 9,
   "metadata": {},
   "outputs": [],
   "source": [
    "import duckdb\n",
    "import polars as pl\n",
    "import torch\n",
    "from torch_geometric.data import Data\n",
    "import numpy as np\n",
    "from torch_geometric.utils import to_networkx\n",
    "from utils import StoreDataset, LoadedDataset, create_pyg_graph_from_polars\n"
   ]
  },
  {
   "cell_type": "code",
   "execution_count": 12,
   "metadata": {},
   "outputs": [],
   "source": [
    "con = duckdb.connect(database=\"../../data/02_primary/distanze.db\")"
   ]
  },
  {
   "cell_type": "code",
   "execution_count": 13,
   "metadata": {},
   "outputs": [],
   "source": [
    "QUERY = \"\"\"\n",
    "    SELECT \n",
    "        trim(split_part(OR_DEST,' - ',1)) as OR, trim(split_part(OR_DEST,' - ',2)) as DEST, TEP_TOT, KM_TOT, TTP_TOT \n",
    "    FROM '../../data/01_raw/Italia/*/*.csv'\n",
    "    \"\"\""
   ]
  },
  {
   "cell_type": "code",
   "execution_count": 14,
   "metadata": {},
   "outputs": [
    {
     "data": {
      "application/vnd.jupyter.widget-view+json": {
       "model_id": "23632c1303f941e5b5e7713722ca066e",
       "version_major": 2,
       "version_minor": 0
      },
      "text/plain": [
       "FloatProgress(value=0.0, layout=Layout(width='auto'), style=ProgressStyle(bar_color='black'))"
      ]
     },
     "metadata": {},
     "output_type": "display_data"
    },
    {
     "name": "stdout",
     "output_type": "stream",
     "text": [
      "shape: (5, 5)\n",
      "┌───────┬───────┬─────────┬────────┬─────────┐\n",
      "│ OR    ┆ DEST  ┆ TEP_TOT ┆ KM_TOT ┆ TTP_TOT │\n",
      "│ ---   ┆ ---   ┆ ---     ┆ ---    ┆ ---     │\n",
      "│ str   ┆ str   ┆ i64     ┆ f64    ┆ i64     │\n",
      "╞═══════╪═══════╪═════════╪════════╪═════════╡\n",
      "│ 66001 ┆ 66001 ┆ 0       ┆ 0.0    ┆ 0       │\n",
      "│ 66001 ┆ 66055 ┆ 6       ┆ 4.9    ┆ 5       │\n",
      "│ 66001 ┆ 66086 ┆ 9       ┆ 7.1    ┆ 7       │\n",
      "│ 66001 ┆ 66031 ┆ 10      ┆ 8.1    ┆ 9       │\n",
      "│ 66001 ┆ 66027 ┆ 13      ┆ 10.8   ┆ 11      │\n",
      "└───────┴───────┴─────────┴────────┴─────────┘\n"
     ]
    }
   ],
   "source": [
    "df = pl.from_arrow(\n",
    "    con.execute(\n",
    "        QUERY\n",
    "    ).fetch_arrow_table()\n",
    ")\n",
    "print(df.head())"
   ]
  },
  {
   "cell_type": "code",
   "execution_count": 15,
   "metadata": {},
   "outputs": [],
   "source": [
    "data = create_pyg_graph_from_polars(df, \"OR\", \"DEST\", [\"TEP_TOT\", \"KM_TOT\", \"TTP_TOT\"])"
   ]
  },
  {
   "cell_type": "code",
   "execution_count": 16,
   "metadata": {},
   "outputs": [
    {
     "name": "stdout",
     "output_type": "stream",
     "text": [
      "Number of nodes: 7903\n",
      "Number of edges: 3245271\n",
      "Average node degree: 410.64\n",
      "Has isolated nodes: True\n",
      "Has self-loops: True\n",
      "Is undirected: False\n"
     ]
    }
   ],
   "source": [
    "# Gather some statistics about the graph.\n",
    "print(f'Number of nodes: {data.num_nodes}')\n",
    "print(f'Number of edges: {data.num_edges}')\n",
    "print(f'Average node degree: {data.num_edges / data.num_nodes:.2f}')\n",
    "print(f'Has isolated nodes: {data.has_isolated_nodes()}')\n",
    "print(f'Has self-loops: {data.has_self_loops()}')\n",
    "print(f'Is undirected: {data.is_undirected()}')"
   ]
  },
  {
   "cell_type": "code",
   "execution_count": 18,
   "metadata": {},
   "outputs": [],
   "source": [
    "StoreDataset(\n",
    "    data_list = [data],\n",
    "    folder = \"../../data/02_primary\",\n",
    "    filename = \"italy_network\"\n",
    ")"
   ]
  },
  {
   "cell_type": "code",
   "execution_count": null,
   "metadata": {},
   "outputs": [],
   "source": []
  }
 ],
 "metadata": {
  "kernelspec": {
   "display_name": ".venv",
   "language": "python",
   "name": "python3"
  },
  "language_info": {
   "codemirror_mode": {
    "name": "ipython",
    "version": 3
   },
   "file_extension": ".py",
   "mimetype": "text/x-python",
   "name": "python",
   "nbconvert_exporter": "python",
   "pygments_lexer": "ipython3",
   "version": "3.12.2"
  }
 },
 "nbformat": 4,
 "nbformat_minor": 2
}
