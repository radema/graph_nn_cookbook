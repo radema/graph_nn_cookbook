{
 "cells": [
  {
   "cell_type": "code",
   "execution_count": 53,
   "metadata": {},
   "outputs": [],
   "source": [
    "import duckdb\n",
    "import polars as pl\n",
    "import torch\n",
    "from torch_geometric.data import Data\n",
    "from torch_geometric.utils import is_undirected\n",
    "from torch_sparse import coalesce\n",
    "import numpy as np\n",
    "from torch_geometric.utils import to_networkx\n",
    "from utils import StoreDataset, LoadedDataset, create_pyg_graph_from_polars\n"
   ]
  },
  {
   "cell_type": "code",
   "execution_count": 46,
   "metadata": {},
   "outputs": [],
   "source": [
    "con = duckdb.connect(database=\"../../data/02_primary/distanze.db\")\n",
    "CONTIGUI = '../../data/01_raw/contigui_data.parquet'"
   ]
  },
  {
   "cell_type": "code",
   "execution_count": 47,
   "metadata": {},
   "outputs": [],
   "source": [
    "QUERY = \"\"\"\n",
    "    SELECT \n",
    "        trim(split_part(OR_DEST,' - ',1)) as OR, trim(split_part(OR_DEST,' - ',2)) as DEST, TEP_TOT, KM_TOT, TTP_TOT \n",
    "    FROM '../../data/01_raw/Italia/*/*.csv'\n",
    "    \"\"\""
   ]
  },
  {
   "cell_type": "code",
   "execution_count": 48,
   "metadata": {},
   "outputs": [
    {
     "data": {
      "application/vnd.jupyter.widget-view+json": {
       "model_id": "142afa4fa7964e58b8ea5095a7a2614f",
       "version_major": 2,
       "version_minor": 0
      },
      "text/plain": [
       "FloatProgress(value=0.0, layout=Layout(width='auto'), style=ProgressStyle(bar_color='black'))"
      ]
     },
     "metadata": {},
     "output_type": "display_data"
    },
    {
     "name": "stdout",
     "output_type": "stream",
     "text": [
      "shape: (5, 5)\n",
      "┌───────┬───────┬─────────┬────────┬─────────┐\n",
      "│ OR    ┆ DEST  ┆ TEP_TOT ┆ KM_TOT ┆ TTP_TOT │\n",
      "│ ---   ┆ ---   ┆ ---     ┆ ---    ┆ ---     │\n",
      "│ str   ┆ str   ┆ i64     ┆ f64    ┆ i64     │\n",
      "╞═══════╪═══════╪═════════╪════════╪═════════╡\n",
      "│ 66001 ┆ 66001 ┆ 0       ┆ 0.0    ┆ 0       │\n",
      "│ 66001 ┆ 66055 ┆ 6       ┆ 4.9    ┆ 5       │\n",
      "│ 66001 ┆ 66086 ┆ 9       ┆ 7.1    ┆ 7       │\n",
      "│ 66001 ┆ 66031 ┆ 10      ┆ 8.1    ┆ 9       │\n",
      "│ 66001 ┆ 66027 ┆ 13      ┆ 10.8   ┆ 11      │\n",
      "└───────┴───────┴─────────┴────────┴─────────┘\n"
     ]
    }
   ],
   "source": [
    "df = pl.from_arrow(\n",
    "    con.execute(\n",
    "        QUERY\n",
    "    ).fetch_arrow_table()\n",
    ")\n",
    "print(df.head())"
   ]
  },
  {
   "cell_type": "code",
   "execution_count": 49,
   "metadata": {},
   "outputs": [],
   "source": [
    "df_cont = pl.read_parquet(CONTIGUI, columns = ['PRO_COM COMUNE','PRO_COM COMUNE ADIACENTE','source_file'])\n",
    "df_cont = df_cont.with_columns(\n",
    "    pl.col('source_file')\\\n",
    "      .str.extract(r\"([^/]+)\\.xlsx$\", 1)  # capture the filename without .xlsx\n",
    "      .str.slice(-4, 4)                   # grab the year\n",
    "      .alias(\"year\"),\n",
    "      pl.col('PRO_COM COMUNE').alias('OR'),\n",
    "      pl.col('PRO_COM COMUNE ADIACENTE').alias('DEST')\n",
    "      )\\\n",
    "        .select(['OR', 'DEST', 'year'])"
   ]
  },
  {
   "cell_type": "code",
   "execution_count": 50,
   "metadata": {},
   "outputs": [],
   "source": [
    "df_join = df_cont.join(df, on = ['OR', 'DEST'], how = 'left')"
   ]
  },
  {
   "cell_type": "code",
   "execution_count": 51,
   "metadata": {},
   "outputs": [],
   "source": [
    "FILTER_YEAR = 2022\n",
    "data = create_pyg_graph_from_polars(\n",
    "    df_join.filter(pl.col('year')==str(FILTER_YEAR)), \n",
    "    \"OR\", \"DEST\", \n",
    "    [\"TEP_TOT\", \"KM_TOT\", \"TTP_TOT\"]\n",
    "    )"
   ]
  },
  {
   "cell_type": "code",
   "execution_count": 58,
   "metadata": {},
   "outputs": [],
   "source": [
    "if data.is_directed():\n",
    "    edge_index, edge_attr = coalesce(\n",
    "    data.edge_index, \n",
    "    data.edge_attr if hasattr(data, 'edge_attr') else None,\n",
    "    m=data.num_nodes,\n",
    "    n=data.num_nodes\n",
    "    )\n",
    "    data.edge_index = edge_index\n",
    "    data.edge_attr  = edge_attr"
   ]
  },
  {
   "cell_type": "code",
   "execution_count": 59,
   "metadata": {},
   "outputs": [
    {
     "name": "stdout",
     "output_type": "stream",
     "text": [
      "Number of nodes: 7890\n",
      "Number of edges: 46446\n",
      "Average node degree: 5.89\n",
      "Has isolated nodes: False\n",
      "Has self-loops: False\n",
      "Is undirected: False\n"
     ]
    }
   ],
   "source": [
    "# Gather some statistics about the graph.\n",
    "print(f'Number of nodes: {data.num_nodes}')\n",
    "print(f'Number of edges: {data.num_edges}')\n",
    "print(f'Average node degree: {data.num_edges / data.num_nodes:.2f}')\n",
    "print(f'Has isolated nodes: {data.has_isolated_nodes()}')\n",
    "print(f'Has self-loops: {data.has_self_loops()}')\n",
    "print(f'Is undirected: {data.is_undirected()}')"
   ]
  },
  {
   "cell_type": "code",
   "execution_count": 60,
   "metadata": {},
   "outputs": [],
   "source": [
    "StoreDataset(\n",
    "    data_list = [data],\n",
    "    folder = \"../../data/03_feature\",\n",
    "    filename = \"italy_network\"\n",
    ")"
   ]
  }
 ],
 "metadata": {
  "kernelspec": {
   "display_name": ".venv",
   "language": "python",
   "name": "python3"
  },
  "language_info": {
   "codemirror_mode": {
    "name": "ipython",
    "version": 3
   },
   "file_extension": ".py",
   "mimetype": "text/x-python",
   "name": "python",
   "nbconvert_exporter": "python",
   "pygments_lexer": "ipython3",
   "version": "3.12.2"
  }
 },
 "nbformat": 4,
 "nbformat_minor": 2
}
