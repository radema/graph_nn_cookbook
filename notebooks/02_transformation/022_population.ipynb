{
 "cells": [
  {
   "cell_type": "code",
   "execution_count": 14,
   "id": "388884b3",
   "metadata": {},
   "outputs": [],
   "source": [
    "import polars as pl"
   ]
  },
  {
   "cell_type": "code",
   "execution_count": 6,
   "id": "b253783b",
   "metadata": {},
   "outputs": [],
   "source": [
    "POPULATION_FILEPATH = '../../data/01_raw/popolazione_2023.csv'"
   ]
  },
  {
   "cell_type": "code",
   "execution_count": 19,
   "id": "4632f779",
   "metadata": {},
   "outputs": [
    {
     "data": {
      "text/html": [
       "<div><style>\n",
       ".dataframe > thead > tr,\n",
       ".dataframe > tbody > tr {\n",
       "  text-align: right;\n",
       "  white-space: pre-wrap;\n",
       "}\n",
       "</style>\n",
       "<small>shape: (7_927, 9)</small><table border=\"1\" class=\"dataframe\"><thead><tr><th>REF_AREA</th><th>Territorio</th><th>TIME_PERIOD</th><th>total_f_itl</th><th>total_m_itl</th><th>total_f_frgapo</th><th>total_m</th><th>total_f</th><th>total_all</th></tr><tr><td>str</td><td>str</td><td>i64</td><td>f64</td><td>f64</td><td>f64</td><td>f64</td><td>f64</td><td>f64</td></tr></thead><tbody><tr><td>&quot;015136&quot;</td><td>&quot;Masate&quot;</td><td>2023</td><td>1723.0</td><td>1731.0</td><td>189.0</td><td>3822.0</td><td>3824.0</td><td>15292.0</td></tr><tr><td>&quot;097033&quot;</td><td>&quot;Ello&quot;</td><td>2023</td><td>586.0</td><td>563.0</td><td>28.0</td><td>1142.0</td><td>1228.0</td><td>4740.0</td></tr><tr><td>&quot;030095&quot;</td><td>&quot;&#x27;Rive d&quot;&#x27;Arcano&#x27;&quot;</td><td>2023</td><td>1122.0</td><td>1108.0</td><td>92.0</td><td>2304.0</td><td>2428.0</td><td>9464.0</td></tr><tr><td>&quot;028098&quot;</td><td>&quot;&#x27;Vighizzolo d&quot;&#x27;Este&#x27;&quot;</td><td>2023</td><td>387.0</td><td>445.0</td><td>18.0</td><td>934.0</td><td>810.0</td><td>3488.0</td></tr><tr><td>&quot;022079&quot;</td><td>&quot;Dro&quot;</td><td>2023</td><td>2357.0</td><td>2348.0</td><td>204.0</td><td>5006.0</td><td>5122.0</td><td>20256.0</td></tr><tr><td>&hellip;</td><td>&hellip;</td><td>&hellip;</td><td>&hellip;</td><td>&hellip;</td><td>&hellip;</td><td>&hellip;</td><td>&hellip;</td><td>&hellip;</td></tr><tr><td>&quot;081013&quot;</td><td>&quot;Paceco&quot;</td><td>2023</td><td>5360.0</td><td>5080.0</td><td>119.0</td><td>10312.0</td><td>10958.0</td><td>42540.0</td></tr><tr><td>&quot;034019&quot;</td><td>&quot;&#x27;Lesignano de&quot;&#x27; Bagni&#x27;&quot;</td><td>2023</td><td>2316.0</td><td>2413.0</td><td>197.0</td><td>5222.0</td><td>5026.0</td><td>20496.0</td></tr><tr><td>&quot;025057&quot;</td><td>&quot;Soverzene&quot;</td><td>2023</td><td>181.0</td><td>174.0</td><td>4.0</td><td>348.0</td><td>370.0</td><td>1436.0</td></tr><tr><td>&quot;004115&quot;</td><td>&quot;Mango&quot;</td><td>2023</td><td>510.0</td><td>530.0</td><td>101.0</td><td>1290.0</td><td>1222.0</td><td>5024.0</td></tr><tr><td>&quot;065055&quot;</td><td>&quot;Giffoni Sei Casali&quot;</td><td>2023</td><td>2368.0</td><td>2387.0</td><td>108.0</td><td>4932.0</td><td>4952.0</td><td>19768.0</td></tr></tbody></table></div>"
      ],
      "text/plain": [
       "shape: (7_927, 9)\n",
       "┌──────────┬────────────┬────────────┬────────────┬───┬────────────┬─────────┬─────────┬───────────┐\n",
       "│ REF_AREA ┆ Territorio ┆ TIME_PERIO ┆ total_f_it ┆ … ┆ total_f_fr ┆ total_m ┆ total_f ┆ total_all │\n",
       "│ ---      ┆ ---        ┆ D          ┆ l          ┆   ┆ gapo       ┆ ---     ┆ ---     ┆ ---       │\n",
       "│ str      ┆ str        ┆ ---        ┆ ---        ┆   ┆ ---        ┆ f64     ┆ f64     ┆ f64       │\n",
       "│          ┆            ┆ i64        ┆ f64        ┆   ┆ f64        ┆         ┆         ┆           │\n",
       "╞══════════╪════════════╪════════════╪════════════╪═══╪════════════╪═════════╪═════════╪═══════════╡\n",
       "│ 015136   ┆ Masate     ┆ 2023       ┆ 1723.0     ┆ … ┆ 189.0      ┆ 3822.0  ┆ 3824.0  ┆ 15292.0   │\n",
       "│ 097033   ┆ Ello       ┆ 2023       ┆ 586.0      ┆ … ┆ 28.0       ┆ 1142.0  ┆ 1228.0  ┆ 4740.0    │\n",
       "│ 030095   ┆ 'Rive      ┆ 2023       ┆ 1122.0     ┆ … ┆ 92.0       ┆ 2304.0  ┆ 2428.0  ┆ 9464.0    │\n",
       "│          ┆ d\"'Arcano' ┆            ┆            ┆   ┆            ┆         ┆         ┆           │\n",
       "│ 028098   ┆ 'Vighizzol ┆ 2023       ┆ 387.0      ┆ … ┆ 18.0       ┆ 934.0   ┆ 810.0   ┆ 3488.0    │\n",
       "│          ┆ o d\"'Este' ┆            ┆            ┆   ┆            ┆         ┆         ┆           │\n",
       "│ 022079   ┆ Dro        ┆ 2023       ┆ 2357.0     ┆ … ┆ 204.0      ┆ 5006.0  ┆ 5122.0  ┆ 20256.0   │\n",
       "│ …        ┆ …          ┆ …          ┆ …          ┆ … ┆ …          ┆ …       ┆ …       ┆ …         │\n",
       "│ 081013   ┆ Paceco     ┆ 2023       ┆ 5360.0     ┆ … ┆ 119.0      ┆ 10312.0 ┆ 10958.0 ┆ 42540.0   │\n",
       "│ 034019   ┆ 'Lesignano ┆ 2023       ┆ 2316.0     ┆ … ┆ 197.0      ┆ 5222.0  ┆ 5026.0  ┆ 20496.0   │\n",
       "│          ┆ de\"'       ┆            ┆            ┆   ┆            ┆         ┆         ┆           │\n",
       "│          ┆ Bagni'     ┆            ┆            ┆   ┆            ┆         ┆         ┆           │\n",
       "│ 025057   ┆ Soverzene  ┆ 2023       ┆ 181.0      ┆ … ┆ 4.0        ┆ 348.0   ┆ 370.0   ┆ 1436.0    │\n",
       "│ 004115   ┆ Mango      ┆ 2023       ┆ 510.0      ┆ … ┆ 101.0      ┆ 1290.0  ┆ 1222.0  ┆ 5024.0    │\n",
       "│ 065055   ┆ Giffoni    ┆ 2023       ┆ 2368.0     ┆ … ┆ 108.0      ┆ 4932.0  ┆ 4952.0  ┆ 19768.0   │\n",
       "│          ┆ Sei Casali ┆            ┆            ┆   ┆            ┆         ┆         ┆           │\n",
       "└──────────┴────────────┴────────────┴────────────┴───┴────────────┴─────────┴─────────┴───────────┘"
      ]
     },
     "execution_count": 19,
     "metadata": {},
     "output_type": "execute_result"
    }
   ],
   "source": [
    "df = (\n",
    "    pl.read_csv(POPULATION_FILEPATH, separator=';')\n",
    "    .filter(\n",
    "        (pl.col('FREQ') == 'A') &\n",
    "        (pl.col('INDICATOR') == 'RESPOP_AV') &\n",
    "        (pl.col('AGE_NOCLASS') == 'TOTAL') &\n",
    "        (pl.col('TIME_PERIOD') == 2023)\n",
    "    )    .with_columns(\n",
    "        pl.col(\"Osservazione\").cast(pl.Float64)  # Ensure numeric\n",
    "    )\n",
    ")\n",
    "\n",
    "agg_df = (\n",
    "    df.group_by([\"REF_AREA\", \"Territorio\",'TIME_PERIOD'])\n",
    "    .agg([\n",
    "        pl.when((pl.col(\"GENDER\") == \"F\") & (pl.col(\"CITIZENSHIP\") == \"ITL\"))\n",
    "          .then(pl.col(\"Osservazione\"))\n",
    "          .otherwise(0.0)\n",
    "          .sum()\n",
    "          .alias(\"total_f_itl\"),\n",
    "\n",
    "        pl.when((pl.col(\"GENDER\") == \"M\") & (pl.col(\"CITIZENSHIP\") == \"ITL\"))\n",
    "          .then(pl.col(\"Osservazione\"))\n",
    "          .otherwise(0.0)\n",
    "          .sum()\n",
    "          .alias(\"total_m_itl\"),\n",
    "\n",
    "        pl.when((pl.col(\"GENDER\") == \"F\") & (pl.col(\"CITIZENSHIP\") == \"FRGAPO\"))\n",
    "          .then(pl.col(\"Osservazione\"))\n",
    "          .otherwise(0.0)\n",
    "          .sum()\n",
    "          .alias(\"total_f_frgapo\"),\n",
    "\n",
    "        pl.when(pl.col(\"GENDER\") == \"M\")\n",
    "          .then(pl.col(\"Osservazione\"))\n",
    "          .otherwise(0.0)\n",
    "          .sum()\n",
    "          .alias(\"total_m\"),\n",
    "\n",
    "        pl.when(pl.col(\"GENDER\") == \"F\")\n",
    "          .then(pl.col(\"Osservazione\"))\n",
    "          .otherwise(0.0)\n",
    "          .sum()\n",
    "          .alias(\"total_f\"),\n",
    "\n",
    "        pl.col(\"Osservazione\").sum().alias(\"total_all\")\n",
    "    ])\n",
    ")\n",
    "agg_df"
   ]
  },
  {
   "cell_type": "code",
   "execution_count": 21,
   "id": "a9626bcf",
   "metadata": {},
   "outputs": [],
   "source": [
    "OUTPUT_FILEPATH = '../../data/02_primary/italy_population.parquet'\n",
    "agg_df.write_parquet(OUTPUT_FILEPATH)"
   ]
  },
  {
   "cell_type": "code",
   "execution_count": null,
   "id": "eedc7a09",
   "metadata": {},
   "outputs": [],
   "source": []
  }
 ],
 "metadata": {
  "kernelspec": {
   "display_name": ".venv",
   "language": "python",
   "name": "python3"
  },
  "language_info": {
   "codemirror_mode": {
    "name": "ipython",
    "version": 3
   },
   "file_extension": ".py",
   "mimetype": "text/x-python",
   "name": "python",
   "nbconvert_exporter": "python",
   "pygments_lexer": "ipython3",
   "version": "3.12.2"
  }
 },
 "nbformat": 4,
 "nbformat_minor": 5
}
