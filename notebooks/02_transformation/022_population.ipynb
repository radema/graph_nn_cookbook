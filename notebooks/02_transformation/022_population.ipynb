{
 "cells": [
  {
   "cell_type": "code",
   "execution_count": null,
   "id": "388884b3",
   "metadata": {},
   "outputs": [],
   "source": [
    "import polars as pl"
   ]
  },
  {
   "cell_type": "code",
   "execution_count": null,
   "id": "b253783b",
   "metadata": {},
   "outputs": [],
   "source": [
    "POPULATION_FILEPATH = '../../data/01_raw/popolazione_2023.csv'"
   ]
  },
  {
   "cell_type": "code",
   "execution_count": null,
   "id": "4632f779",
   "metadata": {},
   "outputs": [],
   "source": [
    "df = (\n",
    "    pl.read_csv(POPULATION_FILEPATH, separator=';')\n",
    "    .filter(\n",
    "        (pl.col('FREQ') == 'A') &\n",
    "        (pl.col('INDICATOR') == 'RESPOP_AV') &\n",
    "        (pl.col('AGE_NOCLASS') == 'TOTAL') &\n",
    "        (pl.col('TIME_PERIOD') == 2023)\n",
    "    )    .with_columns(\n",
    "        pl.col(\"Osservazione\").cast(pl.Float64)  # Ensure numeric\n",
    "    )\n",
    ")\n",
    "\n",
    "agg_df = (\n",
    "    df.group_by([\"REF_AREA\", \"Territorio\",'TIME_PERIOD'])\n",
    "    .agg([\n",
    "        pl.when((pl.col(\"GENDER\") == \"F\") & (pl.col(\"CITIZENSHIP\") == \"ITL\"))\n",
    "          .then(pl.col(\"Osservazione\"))\n",
    "          .otherwise(0.0)\n",
    "          .sum()\n",
    "          .alias(\"total_f_itl\"),\n",
    "\n",
    "        pl.when((pl.col(\"GENDER\") == \"M\") & (pl.col(\"CITIZENSHIP\") == \"ITL\"))\n",
    "          .then(pl.col(\"Osservazione\"))\n",
    "          .otherwise(0.0)\n",
    "          .sum()\n",
    "          .alias(\"total_m_itl\"),\n",
    "\n",
    "        pl.when((pl.col(\"GENDER\") == \"F\") & (pl.col(\"CITIZENSHIP\") == \"FRGAPO\"))\n",
    "          .then(pl.col(\"Osservazione\"))\n",
    "          .otherwise(0.0)\n",
    "          .sum()\n",
    "          .alias(\"total_f_frgapo\"),\n",
    "\n",
    "        pl.when((pl.col(\"GENDER\") == \"M\") & (pl.col(\"CITIZENSHIP\") == \"FRGAPO\"))\n",
    "          .then(pl.col(\"Osservazione\"))\n",
    "          .otherwise(0.0)\n",
    "          .sum()\n",
    "          .alias(\"total_m_frgapo\"),\n",
    "\n",
    "        pl.when(pl.col(\"GENDER\") == \"M\")\n",
    "          .then(pl.col(\"Osservazione\"))\n",
    "          .otherwise(0.0)\n",
    "          .sum()\n",
    "          .alias(\"total_m\"),\n",
    "\n",
    "        pl.when(pl.col(\"GENDER\") == \"F\")\n",
    "          .then(pl.col(\"Osservazione\"))\n",
    "          .otherwise(0.0)\n",
    "          .sum()\n",
    "          .alias(\"total_f\"),\n",
    "\n",
    "        pl.col(\"Osservazione\").sum().alias(\"total_all\")\n",
    "    ])\n",
    ")\n",
    "agg_df"
   ]
  },
  {
   "cell_type": "code",
   "execution_count": null,
   "id": "a9626bcf",
   "metadata": {},
   "outputs": [],
   "source": [
    "OUTPUT_FILEPATH = '../../data/02_primary/italy_population.parquet'\n",
    "agg_df.write_parquet(OUTPUT_FILEPATH)"
   ]
  },
  {
   "cell_type": "markdown",
   "id": "ad13ed86",
   "metadata": {},
   "source": [
    "---"
   ]
  },
  {
   "cell_type": "code",
   "execution_count": null,
   "id": "eedc7a09",
   "metadata": {},
   "outputs": [],
   "source": [
    "MUNICIPALITY_FILEPATH = '../../data/01_raw/Elenco dei codici e delle denominazioni delle unit_ territoriali Data Indagine 18-05-2025 Stampa 18052025215700.csv'"
   ]
  },
  {
   "cell_type": "code",
   "execution_count": null,
   "id": "96d39d24",
   "metadata": {},
   "outputs": [],
   "source": [
    "import re\n",
    "\n",
    "columns = pl.read_csv(MUNICIPALITY_FILEPATH, separator=';', n_rows=0).columns\n",
    "dtypes = {col: pl.Utf8 for col in columns}\n",
    "\n",
    "def clean_column(col_name: str) -> str:\n",
    "    col_name = col_name.lower()\n",
    "    col_name = re.sub(r\"[^\\w\\s]\", \"\", col_name)\n",
    "    col_name = re.sub(r\"\\s+\", \"_\", col_name)\n",
    "    return col_name\n",
    "\n",
    "df = pl.read_csv(MUNICIPALITY_FILEPATH, separator=';', dtypes=dtypes)\n",
    "df = df.rename({col: clean_column(col) for col in df.columns})"
   ]
  },
  {
   "cell_type": "code",
   "execution_count": null,
   "id": "0f5f4f49",
   "metadata": {},
   "outputs": [],
   "source": [
    "OUTPUT_FILEPATH = '../../data/02_primary/italy_municipalities.parquet'\n",
    "agg_df.write_parquet(OUTPUT_FILEPATH)"
   ]
  },
  {
   "cell_type": "code",
   "execution_count": null,
   "id": "8c6dabae",
   "metadata": {},
   "outputs": [],
   "source": [
    "mdf"
   ]
  },
  {
   "cell_type": "markdown",
   "id": "6e7d3b5a",
   "metadata": {},
   "source": [
    "---"
   ]
  },
  {
   "cell_type": "code",
   "execution_count": null,
   "id": "acd994ae",
   "metadata": {},
   "outputs": [],
   "source": [
    "EMPLOYMENT_FILEPATH = '../../data/01_raw/occupazione.csv'"
   ]
  },
  {
   "cell_type": "code",
   "execution_count": null,
   "id": "e0ec6c3d",
   "metadata": {},
   "outputs": [],
   "source": [
    "df"
   ]
  },
  {
   "cell_type": "code",
   "execution_count": null,
   "id": "ce16d1fb",
   "metadata": {},
   "outputs": [],
   "source": [
    "import re\n",
    "\n",
    "def clean_column(col_name: str) -> str:\n",
    "    col_name = col_name.lower()\n",
    "    col_name = re.sub(r\"[^\\w\\s]\", \"\", col_name)\n",
    "    col_name = re.sub(r\"\\s+\", \"_\", col_name)\n",
    "    return col_name\n",
    "\n",
    "df = pl.read_csv(EMPLOYMENT_FILEPATH, separator=';',infer_schema_length=1000000)\n",
    "df = df.filter(\n",
    "        (pl.col('FREQ') == 'A') &\n",
    "        (pl.col('INDICATOR') == 'RESPOP_AV') &\n",
    "        (pl.col('AGE_NOCLASS') == 'Y_GE15')\n",
    "    ).with_columns(\n",
    "        pl.col(\"Osservazione\").cast(pl.Float64)  # Ensure numeric\n",
    "    )\n",
    "agg_df = (\n",
    "    df.group_by([\"REF_AREA\", \"Territorio\",'TIME_PERIOD','Condizione professionale o non professionale'])\n",
    "    .agg([\n",
    "        pl.when((pl.col(\"GENDER\") == \"F\") & (pl.col(\"CITIZENSHIP\") == \"ITL\"))\n",
    "          .then(pl.col(\"Osservazione\"))\n",
    "          .otherwise(0.0)\n",
    "          .sum()\n",
    "          .alias(\"total_f_itl\"),\n",
    "\n",
    "        pl.when((pl.col(\"GENDER\") == \"M\") & (pl.col(\"CITIZENSHIP\") == \"ITL\"))\n",
    "          .then(pl.col(\"Osservazione\"))\n",
    "          .otherwise(0.0)\n",
    "          .sum()\n",
    "          .alias(\"total_m_itl\"),\n",
    "\n",
    "        pl.when((pl.col(\"GENDER\") == \"F\") & (pl.col(\"CITIZENSHIP\") == \"FRGAPO\"))\n",
    "          .then(pl.col(\"Osservazione\"))\n",
    "          .otherwise(0.0)\n",
    "          .sum()\n",
    "          .alias(\"total_f_frgapo\"),\n",
    "\n",
    "        pl.when((pl.col(\"GENDER\") == \"M\") & (pl.col(\"CITIZENSHIP\") == \"FRGAPO\"))\n",
    "          .then(pl.col(\"Osservazione\"))\n",
    "          .otherwise(0.0)\n",
    "          .sum()\n",
    "          .alias(\"total_m_frgapo\"),\n",
    "\n",
    "        pl.when(pl.col(\"GENDER\") == \"M\")\n",
    "          .then(pl.col(\"Osservazione\"))\n",
    "          .otherwise(0.0)\n",
    "          .sum()\n",
    "          .alias(\"total_m\"),\n",
    "\n",
    "        pl.when(pl.col(\"GENDER\") == \"F\")\n",
    "          .then(pl.col(\"Osservazione\"))\n",
    "          .otherwise(0.0)\n",
    "          .sum()\n",
    "          .alias(\"total_f\"),\n",
    "\n",
    "        pl.col(\"Osservazione\").sum().alias(\"total_all\")\n",
    "    ])\n",
    ")\n",
    "agg_df"
   ]
  },
  {
   "cell_type": "code",
   "execution_count": null,
   "id": "3d939df7",
   "metadata": {},
   "outputs": [],
   "source": [
    "OUTPUT_FILEPATH = '../../data/02_primary/italy_employment.parquet'\n",
    "agg_df.write_parquet(OUTPUT_FILEPATH)"
   ]
  }
 ],
 "metadata": {
  "kernelspec": {
   "display_name": ".venv",
   "language": "python",
   "name": "python3"
  },
  "language_info": {
   "codemirror_mode": {
    "name": "ipython",
    "version": 3
   },
   "file_extension": ".py",
   "mimetype": "text/x-python",
   "name": "python",
   "nbconvert_exporter": "python",
   "pygments_lexer": "ipython3",
   "version": "3.12.2"
  }
 },
 "nbformat": 4,
 "nbformat_minor": 5
}
