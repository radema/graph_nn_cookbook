{
 "cells": [
  {
   "cell_type": "code",
   "execution_count": null,
   "id": "388884b3",
   "metadata": {},
   "outputs": [],
   "source": [
    "import polars as pl"
   ]
  },
  {
   "cell_type": "code",
   "execution_count": null,
   "id": "b253783b",
   "metadata": {},
   "outputs": [],
   "source": [
    "POPULATION_FILEPATH = '../../data/01_raw/popolazione_2023.csv'"
   ]
  },
  {
   "cell_type": "code",
   "execution_count": null,
   "id": "4632f779",
   "metadata": {},
   "outputs": [],
   "source": [
    "df = (\n",
    "    pl.read_csv(POPULATION_FILEPATH, separator=';')\n",
    "    .filter(\n",
    "        (pl.col('FREQ') == 'A') &\n",
    "        (pl.col('INDICATOR') == 'RESPOP_AV') &\n",
    "        (pl.col('AGE_NOCLASS') == 'TOTAL') &\n",
    "        (pl.col('TIME_PERIOD') == 2023)\n",
    "    )    .with_columns(\n",
    "        pl.col(\"Osservazione\").cast(pl.Float64)  # Ensure numeric\n",
    "    )\n",
    ")\n",
    "\n",
    "agg_df = (\n",
    "    df.group_by([\"REF_AREA\", \"Territorio\",'TIME_PERIOD'])\n",
    "    .agg([\n",
    "        pl.when((pl.col(\"GENDER\") == \"F\") & (pl.col(\"CITIZENSHIP\") == \"ITL\"))\n",
    "          .then(pl.col(\"Osservazione\"))\n",
    "          .otherwise(0.0)\n",
    "          .sum()\n",
    "          .alias(\"total_f_itl\"),\n",
    "\n",
    "        pl.when((pl.col(\"GENDER\") == \"M\") & (pl.col(\"CITIZENSHIP\") == \"ITL\"))\n",
    "          .then(pl.col(\"Osservazione\"))\n",
    "          .otherwise(0.0)\n",
    "          .sum()\n",
    "          .alias(\"total_m_itl\"),\n",
    "\n",
    "        pl.when((pl.col(\"GENDER\") == \"F\") & (pl.col(\"CITIZENSHIP\") == \"FRGAPO\"))\n",
    "          .then(pl.col(\"Osservazione\"))\n",
    "          .otherwise(0.0)\n",
    "          .sum()\n",
    "          .alias(\"total_f_frgapo\"),\n",
    "\n",
    "        pl.when(pl.col(\"GENDER\") == \"M\")\n",
    "          .then(pl.col(\"Osservazione\"))\n",
    "          .otherwise(0.0)\n",
    "          .sum()\n",
    "          .alias(\"total_m\"),\n",
    "\n",
    "        pl.when(pl.col(\"GENDER\") == \"F\")\n",
    "          .then(pl.col(\"Osservazione\"))\n",
    "          .otherwise(0.0)\n",
    "          .sum()\n",
    "          .alias(\"total_f\"),\n",
    "\n",
    "        pl.col(\"Osservazione\").sum().alias(\"total_all\")\n",
    "    ])\n",
    ")\n",
    "agg_df"
   ]
  },
  {
   "cell_type": "code",
   "execution_count": null,
   "id": "a9626bcf",
   "metadata": {},
   "outputs": [],
   "source": [
    "OUTPUT_FILEPATH = '../../data/02_primary/italy_population.parquet'\n",
    "agg_df.write_parquet(OUTPUT_FILEPATH)"
   ]
  },
  {
   "cell_type": "code",
   "execution_count": null,
   "id": "eedc7a09",
   "metadata": {},
   "outputs": [],
   "source": []
  }
 ],
 "metadata": {
  "kernelspec": {
   "display_name": ".venv",
   "language": "python",
   "name": "python3"
  },
  "language_info": {
   "codemirror_mode": {
    "name": "ipython",
    "version": 3
   },
   "file_extension": ".py",
   "mimetype": "text/x-python",
   "name": "python",
   "nbconvert_exporter": "python",
   "pygments_lexer": "ipython3",
   "version": "3.12.2"
  }
 },
 "nbformat": 4,
 "nbformat_minor": 5
}
